{
 "cells": [
  {
   "cell_type": "code",
   "execution_count": 2,
   "id": "0f30f4f3-8057-441f-9107-c23943c3b872",
   "metadata": {
    "tags": []
   },
   "outputs": [],
   "source": [
    "import cv2\n",
    "import numpy as np\n",
    "\n",
    "# Load the image\n",
    "image = cv2.imread('mountain.jpg')\n",
    "resize_img=cv2.resize(image1,(400,400))\n",
    "# Convert the image to the HSV color space\n",
    "hsv_image = cv2.cvtColor(resize_img, cv2.COLOR_BGR2HSV)\n",
    "\n",
    "# Define the lower and upper thresholds for the color you want to detect (in this example, red color)\n",
    "lower_color = np.array([0, 100, 100])  # Lower threshold for red color in HSV\n",
    "upper_color = np.array([10, 255, 255])  # Upper threshold for red color in HSV\n",
    "\n",
    "# Create a mask based on the defined color range\n",
    "mask = cv2.inRange(hsv_image, lower_color, upper_color)\n",
    "\n",
    "# Apply the mask to the original image\n",
    "result = cv2.bitwise_and(resize_img, resize_img, mask=mask)\n",
    "\n",
    "# Find contours of the detected color regions\n",
    "contours, _ = cv2.findContours(mask, cv2.RETR_EXTERNAL, cv2.CHAIN_APPROX_SIMPLE)\n",
    "\n",
    "# Iterate through each contour and draw a bounding box around it\n",
    "for contour in contours:\n",
    "    x, y, w, h = cv2.boundingRect(contour)\n",
    "    cv2.rectangle(image, (x, y), (x + w, y + h), (0, 255, 0), 2)\n",
    "\n",
    "# Display the original image and the result\n",
    "cv2.imshow('Original Image', resize_img)\n",
    "cv2.imshow('Color Detection Result', result)\n",
    "cv2.waitKey(0)\n",
    "cv2.destroyAllWindows()\n"
   ]
  },
  {
   "cell_type": "code",
   "execution_count": null,
   "id": "f1fc7408-057a-4b27-8528-b4bf3e8484eb",
   "metadata": {},
   "outputs": [],
   "source": []
  }
 ],
 "metadata": {
  "kernelspec": {
   "display_name": "Python 3 (ipykernel)",
   "language": "python",
   "name": "python3"
  },
  "language_info": {
   "codemirror_mode": {
    "name": "ipython",
    "version": 3
   },
   "file_extension": ".py",
   "mimetype": "text/x-python",
   "name": "python",
   "nbconvert_exporter": "python",
   "pygments_lexer": "ipython3",
   "version": "3.9.0"
  }
 },
 "nbformat": 4,
 "nbformat_minor": 5
}
