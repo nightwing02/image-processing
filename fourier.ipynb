{
 "cells": [
  {
   "cell_type": "code",
   "execution_count": null,
   "id": "0c68ccf3-0e3a-40cd-b701-bb925c987e1a",
   "metadata": {
    "tags": []
   },
   "outputs": [],
   "source": [
    "import cv2\n",
    "import numpy as np\n",
    "from matplotlib import pyplot as plt\n",
    "\n",
    "# Load the image\n",
    "image = cv2.imread('mountain.jpg', cv2.IMREAD_GRAYSCALE)\n",
    "# image=cv2.resize(image,(400,400))\n",
    "# Perform padding\n",
    "height, width = image.shape\n",
    "padded_height = cv2.getOptimalDFTSize(height)\n",
    "padded_width = cv2.getOptimalDFTSize(width)\n",
    "padded_image = np.zeros((padded_height, padded_width))\n",
    "padded_image[:height, :width] = image\n",
    "\n",
    "# Apply the Fourier transform\n",
    "fourier = cv2.dft(np.float32(padded_image), flags=cv2.DFT_COMPLEX_OUTPUT)\n",
    "fourier_shifted = np.fft.fftshift(fourier)\n",
    "\n",
    "# Define the low-pass filter mask\n",
    "mask = np.zeros((padded_height, padded_width), np.uint8)\n",
    "center_y, center_x = padded_height // 2, padded_width // 2\n",
    "radius = 50  # Adjust the radius to control the strength of the filter\n",
    "cv2.circle(mask, (center_x, center_y), radius, 255, -1)\n",
    "\n",
    "# Apply the filter mask\n",
    "filtered_shifted = fourier_shifted * mask[:, :, np.newaxis]\n",
    "\n",
    "# Shift the zero-frequency component back\n",
    "filtered = np.fft.ifftshift(filtered_shifted)\n",
    "\n",
    "# Apply the inverse Fourier transform\n",
    "restored = cv2.idft(filtered)\n",
    "restored = cv2.magnitude(restored[:, :, 0], restored[:, :, 1])\n",
    "\n",
    "# Remove padding and normalize\n",
    "restored = restored[:height, :width]\n",
    "restored = cv2.normalize(restored, None, 0, 255, cv2.NORM_MINMAX, dtype=cv2.CV_8U)\n",
    "\n",
    "# Display the original and restored images\n",
    "plt.subplot(1, 2, 1)\n",
    "cv2.imshow('Original Image',image)\n",
    "# plt.title('Original Image')\n",
    "# plt.axis('off')\n",
    "\n",
    "plt.subplot(1, 2, 2)\n",
    "cv2.imshow('Restored Image',restored)\n",
    "# plt.title('Restored Image')\n",
    "# plt.axis('off')\n",
    "cv2.waitKey(0)\n",
    "cv2.destroyAllWindows()\n",
    "# plt.tight_layout()\n",
    "# plt.show()\n"
   ]
  },
  {
   "cell_type": "code",
   "execution_count": null,
   "id": "6c2723ed-adc6-4650-b04a-be55674d0aea",
   "metadata": {},
   "outputs": [],
   "source": []
  }
 ],
 "metadata": {
  "kernelspec": {
   "display_name": "Python 3 (ipykernel)",
   "language": "python",
   "name": "python3"
  },
  "language_info": {
   "codemirror_mode": {
    "name": "ipython",
    "version": 3
   },
   "file_extension": ".py",
   "mimetype": "text/x-python",
   "name": "python",
   "nbconvert_exporter": "python",
   "pygments_lexer": "ipython3",
   "version": "3.9.0"
  }
 },
 "nbformat": 4,
 "nbformat_minor": 5
}
