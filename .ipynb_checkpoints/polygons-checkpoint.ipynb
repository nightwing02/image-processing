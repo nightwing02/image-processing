{
 "cells": [
  {
   "cell_type": "code",
   "execution_count": null,
   "id": "e3504620-73dd-40e7-baeb-d67aab27fb3f",
   "metadata": {},
   "outputs": [],
   "source": [
    "import cv2\n",
    "import numpy as np\n",
    "\n",
    "# Read the image\n",
    "image = cv2.imread('mountain.jpg')\n",
    "gray = cv2.cvtColor(image, cv2.COLOR_BGR2GRAY)\n",
    "\n",
    "# Apply edge detection using the Canny algorithm\n",
    "edges = cv2.Canny(gray, 50, 150)\n",
    "\n",
    "# Apply Hough Line Transform\n",
    "lines = cv2.HoughLines(edges, 1, np.pi/180, threshold=100)\n",
    "\n",
    "# Draw detected lines on the image\n",
    "if lines is not None:\n",
    "    for line in lines:\n",
    "        rho, theta = line[0]\n",
    "        cos_theta = np.cos(theta)\n",
    "        sin_theta = np.sin(theta)\n",
    "        x0 = rho * cos_theta\n",
    "        y0 = rho * sin_theta\n",
    "        x1 = int(x0 + 1000 * (-sin_theta))\n",
    "        y1 = int(y0 + 1000 * (cos_theta))\n",
    "        x2 = int(x0 - 1000 * (-sin_theta))\n",
    "        y2 = int(y0 - 1000 * (cos_theta))\n",
    "        cv2.line(image, (x1, y1), (x2, y2), (0, 0, 255), 2)\n",
    "\n",
    "# Display the image with detected lines\n",
    "cv2.imshow('Detected Lines', image)\n",
    "cv2.waitKey(0)\n",
    "cv2.destroyAllWindows()\n"
   ]
  }
 ],
 "metadata": {
  "kernelspec": {
   "display_name": "Python 3 (ipykernel)",
   "language": "python",
   "name": "python3"
  },
  "language_info": {
   "codemirror_mode": {
    "name": "ipython",
    "version": 3
   },
   "file_extension": ".py",
   "mimetype": "text/x-python",
   "name": "python",
   "nbconvert_exporter": "python",
   "pygments_lexer": "ipython3",
   "version": "3.9.0"
  }
 },
 "nbformat": 4,
 "nbformat_minor": 5
}
