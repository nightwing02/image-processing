{
 "cells": [
  {
   "cell_type": "code",
   "execution_count": null,
   "id": "79f562ce-bbcb-47ee-be11-4ddf122c8707",
   "metadata": {},
   "outputs": [],
   "source": [
    "import cv2\n",
    "import pytesseract\n",
    "\n",
    "# Read the image\n",
    "image = cv2.imread('what.jpg')\n",
    "\n",
    "# Convert the image to grayscale\n",
    "gray = cv2.cvtColor(image, cv2.COLOR_BGR2GRAY)\n",
    "\n",
    "# Apply image pre-processing (e.g., smoothing, thresholding)\n",
    "\n",
    "# Perform text detection using an edge detection algorithm (e.g., Canny)\n",
    "edges = cv2.Canny(gray, 50, 150)\n",
    "\n",
    "# Perform morphological operations (e.g., dilation, erosion)\n",
    "\n",
    "# Find contours of potential text regions\n",
    "contours, _ = cv2.findContours(edges, cv2.RETR_EXTERNAL, cv2.CHAIN_APPROX_SIMPLE)\n",
    "\n",
    "# Iterate over the detected contours and extract the text from each region\n",
    "for contour in contours:\n",
    "    x, y, w, h = cv2.boundingRect(contour)\n",
    "    text_region = gray[y:y+h, x:x+w]\n",
    "    text = pytesseract.image_to_string(text_region)\n",
    "\n",
    "    # Display the extracted text\n",
    "    print(\"Extracted Text:\", text)\n",
    "\n",
    "    # Draw bounding boxes around the text regions\n",
    "    cv2.rectangle(image, (x, y), (x+w, y+h), (0, 255, 0), 2)\n",
    "\n",
    "# Display the image with text regions and bounding boxes\n",
    "cv2.imshow('Text Extraction', image)\n",
    "cv2.waitKey(0)\n",
    "cv2.destroyAllWindows()\n"
   ]
  }
 ],
 "metadata": {
  "kernelspec": {
   "display_name": "Python 3 (ipykernel)",
   "language": "python",
   "name": "python3"
  },
  "language_info": {
   "codemirror_mode": {
    "name": "ipython",
    "version": 3
   },
   "file_extension": ".py",
   "mimetype": "text/x-python",
   "name": "python",
   "nbconvert_exporter": "python",
   "pygments_lexer": "ipython3",
   "version": "3.9.0"
  }
 },
 "nbformat": 4,
 "nbformat_minor": 5
}
