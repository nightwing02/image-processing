{
 "cells": [
  {
   "cell_type": "code",
   "execution_count": null,
   "id": "6849dd0d-2a76-47d5-bea2-a9cd5fe59926",
   "metadata": {
    "tags": []
   },
   "outputs": [],
   "source": [
    "import cv2\n",
    "\n"
   ]
  },
  {
   "cell_type": "markdown",
   "id": "fb6a7756-04d8-47ea-94e9-113c844e0a92",
   "metadata": {
    "tags": []
   },
   "source": [
    "# Show image\n",
    "using cv2.imread()"
   ]
  },
  {
   "cell_type": "code",
   "execution_count": null,
   "id": "17b5c073-b5e7-41fa-afb2-b5e0d0cb80e0",
   "metadata": {
    "tags": []
   },
   "outputs": [],
   "source": [
    "img=cv2.imread('image.jpg')\n",
    "cv2.imshow('Image',img)\n",
    "cv2.waitKey(0)\n",
    "cv2.destroyAllWindows()"
   ]
  },
  {
   "cell_type": "markdown",
   "id": "7a9ce08c-2d4a-4fc2-a869-0c1f6947ad14",
   "metadata": {},
   "source": [
    "# Get Dimensions of Image\n",
    "\n",
    "using shape function and giving index\n"
   ]
  },
  {
   "cell_type": "code",
   "execution_count": null,
   "id": "f269c896-7f2e-4f65-a357-baa7618869db",
   "metadata": {
    "tags": []
   },
   "outputs": [
    {
     "name": "stdout",
     "output_type": "stream",
     "text": [
      "Image Dimension    :  (1290, 959, 3)\n",
      "Image Height       :  1290\n",
      "Image Width        :  959\n",
      "Number of Channels :  3\n"
     ]
    }
   ],
   "source": [
    "# get dimensions of image\n",
    "dimensions = img.shape\n",
    " \n",
    "# height, width, number of channels in image\n",
    "height = img.shape[0]\n",
    "width = img.shape[1]\n",
    "channels = img.shape[2]\n",
    " \n",
    "print('Image Dimension    : ',dimensions)\n",
    "print('Image Height       : ',height)\n",
    "print('Image Width        : ',width)\n",
    "print('Number of Channels : ',channels)"
   ]
  },
  {
   "cell_type": "markdown",
   "id": "2ef2d784-ce7e-4702-8b1f-33d283733b67",
   "metadata": {
    "tags": []
   },
   "source": [
    "# Resize a image \n",
    "\n",
    "using resize() fun"
   ]
  },
  {
   "cell_type": "code",
   "execution_count": 22,
   "id": "eefac22d-b7eb-47d6-b7d9-7124a86f96db",
   "metadata": {
    "tags": []
   },
   "outputs": [],
   "source": [
    "\n",
    "resize_img=cv2.resize(img,(400,400))\n",
    "cv2.imshow('Resized Image',resize_img)\n",
    "cv2.waitKey(0)\n",
    "cv2.destroyAllWindows()"
   ]
  },
  {
   "cell_type": "markdown",
   "id": "4b457d2a-b872-45f3-89f7-cb087da93f45",
   "metadata": {},
   "source": [
    "# Grayscale\n",
    "using cvtColor():\n",
    "\n",
    "\n",
    "\n",
    "\n",
    "\n",
    "\n",
    "COLOR_BGR2GRAY"
   ]
  },
  {
   "cell_type": "code",
   "execution_count": null,
   "id": "5ae3cb80-585e-4cca-a8ee-018ca6703a05",
   "metadata": {
    "tags": []
   },
   "outputs": [],
   "source": [
    "gray_img=cv2.cvtColor(resize_img,cv2.COLOR_BGR2GRAY)\n",
    "\n",
    "cv2.imshow('Gray Scale Image',gray_img)\n",
    "cv2.waitKey(0)\n",
    "cv2.destroyAllWindows()"
   ]
  },
  {
   "cell_type": "markdown",
   "id": "f2ffbebc-06d1-4332-85ca-0eab3a306161",
   "metadata": {},
   "source": [
    "# MedianBlur and GaussianBlur()\n",
    "\n"
   ]
  },
  {
   "cell_type": "code",
   "execution_count": 34,
   "id": "96eeabaf-e58d-438f-8398-c9e9ec8363d3",
   "metadata": {
    "tags": []
   },
   "outputs": [],
   "source": [
    "# blur(image, (ksize, ksize)):\n",
    "blush=cv2.blur(resize_img,(5,70))\n",
    "cv2.imshow(\"Blur Image\",blush)\n",
    "cv2.waitKey(0)\n",
    "cv2.destroyAllWindows()"
   ]
  },
  {
   "cell_type": "code",
   "execution_count": 33,
   "id": "93a3707d-ebd3-41f3-a0ef-f3ef02b1112b",
   "metadata": {
    "tags": []
   },
   "outputs": [],
   "source": [
    "# GaussianBlur(image, (ksize, ksize), sigmaX)\n",
    "blur_img=cv2.GaussianBlur(resize_img,(5,5),0)\n",
    "\n",
    "cv2.imshow(\"Blur Image\",blur_img)\n",
    "cv2.waitKey(0)\n",
    "cv2.destroyAllWindows()"
   ]
  },
  {
   "cell_type": "code",
   "execution_count": 36,
   "id": "059ee6c3-4c9e-491a-a781-7c1f9975620e",
   "metadata": {
    "tags": []
   },
   "outputs": [],
   "source": [
    "# medianBlur(image, ksize):\n",
    "blur_img=cv2.medianBlur(resize_img,7)\n",
    "\n",
    "cv2.imshow(\"Blur Image\",blur_img)\n",
    "cv2.waitKey(0)\n",
    "cv2.destroyAllWindows()"
   ]
  },
  {
   "cell_type": "markdown",
   "id": "0192df1b-5d99-43d9-8fd4-507dabab012d",
   "metadata": {},
   "source": [
    "# Edge Detection\n",
    "\n",
    "using Canny() and Sobel()"
   ]
  },
  {
   "cell_type": "code",
   "execution_count": 51,
   "id": "073470b8-5e88-49c0-95c3-30086f19b7ff",
   "metadata": {
    "tags": []
   },
   "outputs": [],
   "source": [
    "edges=cv2.Canny(gray_img,100,200)\n",
    "\n",
    "cv2.imshow('Edges',edges)\n",
    "cv2.waitKey(0)\n",
    "cv2.destroyAllWindows()"
   ]
  },
  {
   "cell_type": "code",
   "execution_count": 55,
   "id": "06065b45-13d5-4336-91f9-4d589b50e0ae",
   "metadata": {
    "tags": []
   },
   "outputs": [],
   "source": [
    "sobel_x = cv2.Sobel(gray_img, cv2.CV_64F, 1, 0, ksize=3)\n",
    "sobel_y = cv2.Sobel(gray_img, cv2.CV_64F, 0, 1, ksize=3)\n",
    "\n",
    "# Combine the Sobel gradients\n",
    "sobel_combined = cv2.bitwise_or(np.absolute(sobel_x), np.absolute(sobel_y))\n",
    "\n",
    "# Display the Sobel edges\n",
    "cv2.imshow('Sobel Edges', sobel_combined)\n",
    "cv2.waitKey(0)\n",
    "cv2.destroyAllWindows()\n"
   ]
  },
  {
   "cell_type": "markdown",
   "id": "2dbdf6c3-f533-43f8-b9d2-3a456198be60",
   "metadata": {},
   "source": [
    "# Rotate a Image\n",
    "\n",
    " using getRotationMatrix2D() and warpAffine()"
   ]
  },
  {
   "cell_type": "code",
   "execution_count": null,
   "id": "13bf0207-a4b9-43e4-a107-c05222b65e65",
   "metadata": {
    "tags": []
   },
   "outputs": [],
   "source": [
    "import cv2\n",
    "import numpy as np\n",
    "\n",
    "# Read the image\n",
    "image = cv2.imread('image.jpg')\n",
    "\n",
    "# Get the image dimensions\n",
    "(height, width) = image.shape[:2] #:2 to get last two dimensions\n",
    "\n",
    "# Define the rotation angle and rotation center\n",
    "angle = 270\n",
    "center = (width // 2, height // 2)\n",
    "\n",
    "# Calculate the rotation matrix\n",
    "rotation_matrix = cv2.getRotationMatrix2D(center, angle, 1.0)\n",
    "\n",
    "# Perform the rotation using warpAffine()\n",
    "rotated_image = cv2.warpAffine(image, rotation_matrix, (width, height))\n",
    "\n",
    "# Display the rotated image\n",
    "cv2.imshow('Rotated Image', rotated_image)\n",
    "cv2.waitKey(0)\n",
    "cv2.destroyAllWindows()\n"
   ]
  },
  {
   "cell_type": "markdown",
   "id": "1d8ee5d2-f8f9-42c3-afd2-0ec65bed0aca",
   "metadata": {},
   "source": [
    "# Apply thresholding to an Image\n",
    "\n",
    "using threshold() and adaptiveThresold()"
   ]
  },
  {
   "cell_type": "code",
   "execution_count": null,
   "id": "ea4c6eab-7c88-4765-b622-a8ec61d8068b",
   "metadata": {
    "tags": []
   },
   "outputs": [],
   "source": [
    "# thresholded_image = cv2.threshold(gray_img, 128, 255, cv2.THRESH_BINARY)\n",
    "\n",
    "# # Display the thresholded image\n",
    "# cv2.imshow('Thresholded Image', thresholded_image)\n",
    "# cv2.waitKey(0)\n",
    "# cv2.destroyAllWindows()"
   ]
  },
  {
   "cell_type": "code",
   "execution_count": 60,
   "id": "fa399fcd-a30d-453c-9d19-ec672ca41a24",
   "metadata": {},
   "outputs": [
    {
     "data": {
      "image/png": "[encoded data removed]",
      "text/plain": [
       "<Figure size 640x480 with 1 Axes>"
      ]
     },
     "metadata": {},
     "output_type": "display_data"
    }
   ],
   "source": [
    "# Syntax: cv2.calcHist(images, channels, mask, histSize, ranges[, hist[, accumulate]])\n",
    "\n",
    "# images: list of images as numpy arrays. All images must be of the same dtype and same size.\n",
    "# channels: list of the channels used to calculate the histograms.\n",
    "# mask: optional mask (8 bit array) of the same size as the input image.\n",
    "# histSize: histogram sizes in each dimension\n",
    "# ranges: Array of the dims arrays of the histogram bin boundaries in each dimension\n",
    "hist: Output histogram\n",
    "# accumulate: accumulation flag, enables to compute a single histogram from several sets of arrays.\n",
    "\n",
    "hist = cv2.calcHist([resize_img], [0], None, [256], [0, 256])\n",
    "plt.plot(hist)\n",
    "plt.xlabel('Intensity')\n",
    "plt.ylabel('Frequency')\n",
    "plt.show()\n",
    "equalized_image = cv2.equalizeHist(gray_img)\n",
    "\n"
   ]
  },
  {
   "cell_type": "code",
   "execution_count": null,
   "id": "0180c3c1-1baf-4e77-822e-b91245984465",
   "metadata": {},
   "outputs": [],
   "source": []
  }
 ],
 "metadata": {
  "kernelspec": {
   "display_name": "Python 3 (ipykernel)",
   "language": "python",
   "name": "python3"
  },
  "language_info": {
   "codemirror_mode": {
    "name": "ipython",
    "version": 3
   },
   "file_extension": ".py",
   "mimetype": "text/x-python",
   "name": "python",
   "nbconvert_exporter": "python",
   "pygments_lexer": "ipython3",
   "version": "3.9.0"
  }
 },
 "nbformat": 4,
 "nbformat_minor": 5
}
